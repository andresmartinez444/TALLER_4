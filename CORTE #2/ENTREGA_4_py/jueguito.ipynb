{
 "cells": [
  {
   "cell_type": "markdown",
   "metadata": {},
   "source": [
    "### Ejercicio en clase N°2: Clasificar números pares e impares"
   ]
  },
  {
   "cell_type": "code",
   "execution_count": null,
   "metadata": {},
   "outputs": [
    {
     "name": "stdout",
     "output_type": "stream",
     "text": [
      "\n",
      "--- Piedra, Papel o Tijera ---\n",
      "Opción inválida. Intenta de nuevo.\n",
      "\n",
      "--- Piedra, Papel o Tijera ---\n",
      "Computadora elige: papel\n",
      "¡La computadora gana!\n",
      "\n",
      "--- Piedra, Papel o Tijera ---\n",
      "Computadora elige: tijera\n",
      "¡La computadora gana!\n"
     ]
    }
   ],
   "source": [
    "# Definir las reglas del juego\n",
    "def evaluar(jugador, computadora):\n",
    "    if jugador == computadora:\n",
    "        return 0  # Empate\n",
    "    elif (jugador == \"piedra\" and computadora == \"tijera\") or \\\n",
    "         (jugador == \"papel\" and computadora == \"piedra\") or \\\n",
    "         (jugador == \"tijera\" and computadora == \"papel\"):\n",
    "        return 1  # Jugador gana\n",
    "    else:\n",
    "        return -1  # Computadora gana\n",
    "\n",
    "# Función Minimax con poda alfa-beta\n",
    "def minimax_alfa_beta(jugador, es_maximizador, alfa, beta):\n",
    "    opciones = [\"piedra\", \"papel\", \"tijera\"]\n",
    "    if es_maximizador:\n",
    "        mejor_valor = -float('inf')\n",
    "        mejor_opcion = \"\"\n",
    "        for opcion in opciones:\n",
    "            valor = evaluar(jugador, opcion)\n",
    "            mejor_valor = max(mejor_valor, valor)\n",
    "            alfa = max(alfa, mejor_valor)\n",
    "            if beta <= alfa:\n",
    "                break  # Poda alfa-beta\n",
    "            if mejor_valor == valor:\n",
    "                mejor_opcion = opcion\n",
    "        return mejor_opcion\n",
    "    else:\n",
    "        mejor_valor = float('inf')\n",
    "        mejor_opcion = \"\"\n",
    "        for opcion in opciones:\n",
    "            valor = evaluar(jugador, opcion)\n",
    "            mejor_valor = min(mejor_valor, valor)\n",
    "            beta = min(beta, mejor_valor)\n",
    "            if beta <= alfa:\n",
    "                break  # Poda alfa-beta\n",
    "            if mejor_valor == valor:\n",
    "                mejor_opcion = opcion\n",
    "        return mejor_opcion\n",
    "\n",
    "# Juego de Piedra-Papel-Tijera\n",
    "def jugar_piedra_papel_tijera():\n",
    "    while True:\n",
    "        print(\"\\n--- Piedra, Papel o Tijera ---\")\n",
    "        jugador = input(\"Elige (piedra, papel, tijera): \").lower()\n",
    "        if jugador not in [\"piedra\", \"papel\", \"tijera\"]:\n",
    "            print(\"Opción inválida. Intenta de nuevo.\")\n",
    "            continue\n",
    "\n",
    "        # Turno de la computadora (usa Minimax con poda alfa-beta)\n",
    "        computadora = minimax_alfa_beta(jugador, False, -float('inf'), float('inf'))\n",
    "        print(f\"Computadora elige: {computadora}\")\n",
    "\n",
    "        # Determinar el resultado\n",
    "        resultado = evaluar(jugador, computadora)\n",
    "        if resultado == 0:\n",
    "            print(\"¡Empate!\")\n",
    "        elif resultado == 1:\n",
    "            print(\"¡Ganaste!\")\n",
    "        else:\n",
    "            print(\"¡La computadora gana!\")\n",
    "\n",
    "        # Preguntar si desea jugar de nuevo\n",
    "        jugar_de_nuevo = input(\"¿Jugar de nuevo? (s/n): \").lower()\n",
    "        if jugar_de_nuevo != \"s\":\n",
    "            break\n",
    "\n",
    "# Iniciar el juego\n",
    "jugar_piedra_papel_tijera()"
   ]
  }
 ],
 "metadata": {
  "kernelspec": {
   "display_name": "Python 3",
   "language": "python",
   "name": "python3"
  },
  "language_info": {
   "codemirror_mode": {
    "name": "ipython",
    "version": 3
   },
   "file_extension": ".py",
   "mimetype": "text/x-python",
   "name": "python",
   "nbconvert_exporter": "python",
   "pygments_lexer": "ipython3",
   "version": "3.12.7"
  }
 },
 "nbformat": 4,
 "nbformat_minor": 2
}
